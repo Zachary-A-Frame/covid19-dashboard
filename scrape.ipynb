{
 "nbformat": 4,
 "nbformat_minor": 2,
 "metadata": {
  "language_info": {
   "name": "python",
   "codemirror_mode": {
    "name": "ipython",
    "version": 3
   },
   "version": "3.7.3"
  },
  "orig_nbformat": 2,
  "file_extension": ".py",
  "mimetype": "text/x-python",
  "name": "python",
  "npconvert_exporter": "python",
  "pygments_lexer": "ipython3",
  "version": 3
 },
 "cells": [
  {
   "cell_type": "code",
   "execution_count": 2,
   "metadata": {},
   "outputs": [],
   "source": [
    "from sqlalchemy import create_engine\n",
    "from sqlalchemy.ext.declarative import declarative_base\n",
    "import requests\n",
    "from contextlib import closing\n",
    "import csv\n",
    "from numpy import genfromtxt\n"
   ]
  },
  {
   "cell_type": "code",
   "execution_count": 40,
   "metadata": {},
   "outputs": [],
   "source": [
    "Base = declarative_base()\n",
    "def Load_Data(file_name):\n",
    "    data = genfromtxt(file_name, delimiter=',', skip_header=1, converters={0: lambda s: str(s)}, names=True, dtype=\"U9,f8,f8,f8,f8,f8\")\n",
    "    return data.tolist()"
   ]
  },
  {
   "cell_type": "code",
   "execution_count": 4,
   "metadata": {},
   "outputs": [],
   "source": [
    "from sqlalchemy import Column, Integer, String, Float\n"
   ]
  },
  {
   "cell_type": "code",
   "execution_count": 9,
   "metadata": {},
   "outputs": [],
   "source": [
    "# Construct our class, data will be for August. \n",
    "\n",
    "class Data(Base): \n",
    "    __tablename__ = 'August_Covid_Data'\n",
    "    id = Column(Integer, primary_key=True)\n",
    "    state = Column(String(255))\n",
    "    deaths = Column(Integer)\n",
    "    hospitalizedCurrently = Column(Integer)\n",
    "    positive = Column(Integer)\n",
    "    totalTestResults = Column(Integer)\n"
   ]
  },
  {
   "cell_type": "code",
   "execution_count": 35,
   "metadata": {},
   "outputs": [],
   "source": [
    "url = \"https://api.covidtracking.com/v1/us/20200801.csv\"\n",
    "\n",
    "# 2353"
   ]
  },
  {
   "cell_type": "code",
   "execution_count": 5,
   "metadata": {},
   "outputs": [],
   "source": [
    "engine = create_engine(\"sqlite:///covid.sqlite\")\n",
    "conn = engine.connect()"
   ]
  },
  {
   "cell_type": "code",
   "execution_count": 6,
   "metadata": {},
   "outputs": [],
   "source": [
    "Base.metadata.create_all(conn)"
   ]
  },
  {
   "cell_type": "code",
   "execution_count": 7,
   "metadata": {},
   "outputs": [],
   "source": [
    "from sqlalchemy.orm import Session\n",
    "session = Session(bind=engine)"
   ]
  },
  {
   "cell_type": "code",
   "execution_count": 11,
   "metadata": {},
   "outputs": [],
   "source": [
    "data = Data(state=\"test\", deaths=0, hospitalizedCurrently=0, positive=0, totalTestResults=0)\n",
    "\n",
    "session.add(data)\n",
    "session.commit()"
   ]
  },
  {
   "cell_type": "code",
   "execution_count": 12,
   "metadata": {},
   "outputs": [
    {
     "name": "stdout",
     "output_type": "stream",
     "text": "SELECT \"August_Covid_Data\".id AS \"August_Covid_Data_id\", \"August_Covid_Data\".state AS \"August_Covid_Data_state\", \"August_Covid_Data\".deaths AS \"August_Covid_Data_deaths\", \"August_Covid_Data\".\"hospitalizedCurrently\" AS \"August_Covid_Data_hospitalizedCurrently\", \"August_Covid_Data\".positive AS \"August_Covid_Data_positive\", \"August_Covid_Data\".\"totalTestResults\" AS \"August_Covid_Data_totalTestResults\" \nFROM \"August_Covid_Data\"\n"
    }
   ],
   "source": [
    "print(session.query(Data))"
   ]
  },
  {
   "cell_type": "code",
   "execution_count": 13,
   "metadata": {},
   "outputs": [
    {
     "name": "stdout",
     "output_type": "stream",
     "text": "1\ntest\n0\n0\n0\n0\n2\ntest\n0\n0\n0\n0\n3\ntest\n0\n0\n0\n0\n"
    }
   ],
   "source": [
    "for point in session.query(Data):\n",
    "    print(point.id)\n",
    "    print(point.state)\n",
    "    print(point.deaths)\n",
    "    print(point.hospitalizedCurrently)\n",
    "    print(point.positive)\n",
    "    print(point.totalTestResults)"
   ]
  },
  {
   "cell_type": "code",
   "execution_count": 52,
   "metadata": {},
   "outputs": [
    {
     "name": "stdout",
     "output_type": "stream",
     "text": "57137941', '1.1408339889850512']\n['', '', '', 'Dominica', '2020-08-02 04:34:47', '15.415', '-61.371', '18', '0', '18', '0', 'Dominica', '25.003125390673837', '0.0']\n['', '', '', 'Dominican Republic', '2020-08-02 04:34:47', '18.7357', '-70.1627', '71415', '1170', '37509', '32736', 'Dominican Republic', '658.329940972929', '1.6383112791430372']\n['', '', '', 'Ecuador', '2020-08-02 04:34:47', '-1.8312', '-78.1834', '86232', '5736', '36213', '44283', 'Ecuador', '488.75875273336936', '6.651822989145561']\n['', '', '', 'Egypt', '2020-08-02 04:34:47', '26.820553000000004', '30.802498', '94316', '4834', '41137', '48345', 'Egypt', '92.16450893840657', '5.125323380974596']\n['', '', '', 'El Salvador', '2020-08-02 04:34:47', '13.7942', '-88.8965', '17050', '459', '8495', '8096', 'El Salvador', '262.8657360448743', '2.69208211143695']\n['', '', '', 'Equatorial Guinea', '2020-08-02 04:34:47', '1.6508', '10.2679', '4821', '83', '2182', '2556', 'Equatorial Guinea', '343.6244863630046', '1.7216345156606514']\n['', '', '', 'Eritrea', '2020-08-02 04:34:47', '15.1794', '39.7823', '279', '0', '225', '54', 'Eritrea', '7.867072972318335', '0.0']\n['', '', '', 'Estonia', '2020-08-02 04:34:47', '58.5953', '25.0136', '2072', '69', '1934', '69', 'Estonia', '156.19593543800826', '3.33011583011583']\n['', '', '', 'Eswatini', '2020-08-02 04:34:47', '-26.5225', '31.4659', '2706', '43', '1214', '1449', 'Eswatini', '233.24288635055044', '1.5890613451589062']\n['', '', '', 'Ethiopia', '2020-08-02 04:34:47', '9.145', '40.4897', '17999', '284', '7195', '10520', 'Ethiopia', '15.65626220957292', '1.5778654369687204']\n['', '', '', 'Fiji', '2020-08-02 04:34:47', '-17.7134', '178.065', '27', '1', '18', '8', 'Fiji', '3.0119003529501005', '3.7037037037037037']\n['', '', '', 'Finland', '2020-08-02 04:34:47', '61.92411', '25.748151', '7443', '329', '6950', '164', 'Finland', '134.33277059038195', '4.420260647588338']\n['', '', '', 'France', '2020-08-02 04:34:47', '46.2276', '2.2137', '213031', '30150', '71511', '111370', 'France', '326.3666891403055', '14.152869770127353']\n['', '', '', 'Gabon', '2020-08-02 04:34:47', '-0.8037', '11.6094', '7531', '50', '5223', '2258', 'Gabon', '338.3612013687207', '0.6639224538573895']\n['', '', '', 'Gambia', '2020-08-02 04:34:47', '13.4432', '-15.3101', '498', '9', '68', '421', 'Gambia', '20.606919290393694', '1.8072289156626506']\n['', '', '', 'Georgia', '2020-08-02 04:34:47', '42.3154', '43.3569', '1171', '17', '947', '207', 'Georgia', '29.354440454479928', '1.4517506404782237']\n['', '', '', 'Ghana', '2020-08-02 04:34:47', '7.9465', '-1.0232', '37014', '182', '33365', '3467', 'Ghana', '119.11970365216429', '0.4917058410331226']\n['', '', '', 'Greece', '2020-08-02 04:34:47', '39.0742', '21.8243', '4587', '206', '1374', '3007', 'Greece', '44.00820642237747', '4.4909526923915415']\n['', '', '', 'Grenada', '2020-08-02 04:34:47', '12.1165', '-61.679', '24', '0', '23', '1', 'Grenada', '21.329730978768033', '0.0']\n['', '', '', 'Guatemala', '2020-08-02 04:34:47', '15.7835', '-90.2308', '50979', '1959', '37873', '11147', 'Guatemala', '284.55141832798256', '3.8427587830283056']\n['', '', '', 'Guinea', '2020-08-02 04:34:47', '9.9456', '-9.6966', '7308', '46', '6458', '804', 'Guinea', '55.646963722565616', '0.6294471811713191']\n['', '', '', 'Guinea-Bissau', '2020-08-02 04:34:47', '11.8037', '-15.1804', '1981', '27', '803', '1151', 'Guinea-Bissau', '100.66067140312134', '1.3629480060575467']\n['', '', '', 'Guyana', '2020-08-02 04:34:47', '4.860416000000002', '-58.93018000000001', '430', '20', '185', '225', 'Guyana', '54.66849912085426', '4.651162790697675']\n['', '', '', 'Haiti', '2020-08-02 04:34:47', '18.9712', '-72.2852', '7468', '165', '4606', '2697', 'Haiti', '65.49421957384381', '2.209426888055704']\n['', '', '', 'Holy See', '2020-08-02 04:34:47', '41.9029', '12.4534', '12', '0', '12', '0', 'Holy See', '1483.3127317676144', '0.0']\n['', '', '', 'Honduras', '2020-08-02 04:34:47', '15.2', '-86.2419', '42685', '1368', '5694', '35623', 'Honduras', '430.9610233943635', '3.204872906173129']\n['', '', '', 'Hungary', '2020-08-02 04:34:47', '47.1625', '19.5033', '4526', '597', '3364', '565', 'Hungary', '46.85130455935862', '13.190455148033584']\n['', '', '', 'Iceland', '2020-08-02 04:34:47', '64.9631', '-19.0208', '1893', '10', '1825', '58', 'Iceland', '554.7252747252746', '0.5282620179609087']\n['', '', '', 'Indonesia', '2020-08-02 04:34:47', '-0.7893', '113.9213', '109936', '5193', '67919', '36824', 'Indonesia', '40.192506810956566', '4.72365740066948']\n['', '', '', 'Iran', '2020-08-02 04:34:47', '32.427908', '53.68804599999999', '306752', '16982', '265830', '23940', 'Iran', '365.21159102478515', '5.536068224494054']\n['', '', '', 'Iraq', '2020-08-02 04:34:47', '33.223191', '43.679291', '126704', '4805', '89275', '32624', 'Iraq', '315.0077457884707', '3.792303321126405']\n['', '', '', 'Ireland', '2020-08-02 04:34:47', '53.1424', '-7.6921', '26109', '1763', '23364', '982', 'Ireland', '528.7581746998053', '6.752460837259183']\n['', '', '', 'Israel', '2020-08-02 04:34:47', '31.046051', '34.851612', '72218', '526', '45102', '26590', 'Israel', '834.3557034736477', '0.7283502727851782']\n['', '', '', 'Jamaica', '2020-08-02 04:34:47', '18.1096', '-77.2975', '883', '10', '743', '130', 'Jamaica', '29.819385031749373', '1.1325028312570782']\n['', '', '', 'Jordan', '2020-08-02 04:34:47', '31.24', '36.51', '1208', '11', '1094', '103', 'Jordan', '11.839492548372364', '0.9105960264900662']\n['', '', '', 'Kazakhstan', '2020-08-02 04:34:47', '48.0196', '66.9237', '90367', '793', '60825', '28749', 'Kazakhstan', '481.27182258316117', '0.8775327276550068']\n['', '', '', 'Kenya', '2020-08-02 04:34:47', '-0.0236', '37.9062', '21363', '364', '8419', '12580', 'Kenya', '39.729372360348364', '1.7038805411225015']\n['', '', '', 'Korea, South', '2020-08-02 04:34:47', '35.90775700000001', '127.766922', '14366', '301', '13259', '806', 'Korea, South', '28.020731284132232', '2.0952248364193236']\n['', '', '', 'Kosovo', '2020-08-02 04:34:47', '42.602636', '20.902977', '8104', '212', '4463', '3429', 'Kosovo', '447.6442885029878', '2.6159921026653503']\n['', '', '', 'Kuwait', '2020-08-02 04:34:47', '29.31166', '47.481766', '67448', '453', '58525', '8470', 'Kuwait', '1579.3702141848746', '0.6716285138180524']\n['', '', '', 'Kyrgyzstan', '2020-08-02 04:34:47', '41.20438', '74.766098', '36299', '1397', '26419', '8483', 'Kyrgyzstan', '556.3754954445693', '3.8485908702719085']\n['', '', '', 'Laos', '2020-08-02 04:34:47', '19.85627', '102.495496', '20', '0', '19', '1', 'Laos', '0.27489308033640314', '0.0']\n['', '', '', 'Latvia', '2020-08-02 04:34:47', '56.8796', '24.6032', '1238', '32', '1052', '154', 'Latvia', '65.63453967284522', '2.5848142164781907']\n['', '', '', 'Lebanon', '2020-08-02 04:34:47', '33.8547', '35.8623', '4730', '61', '1761', '2908', 'Lebanon', '69.2995413337334', '1.2896405919661733']\n['', '', '', 'Lesotho', '2020-08-02 04:34:47', '-29.609988', '28.233608', '702', '14', '171', '517', 'Lesotho', '32.76925403734015', '1.9943019943019944']\n['', '', '', 'Liberia', '2020-08-02 04:34:47', '6.4280550000000005', '-9.429499', '1189', '75', '673', '441', 'Liberia', '23.508816399307428', '6.307821698906644']\n['', '', '', 'Libya', '2020-08-02 04:34:47', '26.3351', '17.228331', '3691', '80', '619', '2992', 'Libya', '53.71628342696208', '2.167434299647792']\n['', '', '', 'Liechtenstein', '2020-08-02 04:34:47', '47.14', '9.55', '88', '1', '85', '2', 'Liechtenstein', '230.74704355350448', '1.1363636363636365']\n['', '', '', 'Lithuania', '2020-08-02 04:34:47', '55.1694', '23.8813', '2093', '80', '1644', '369', 'Lithuania', '76.88377179368408', '3.822264691829909']\n['', '', '', 'Luxembourg', '2020-08-02 04:34:47', '49.8153', '6.1296', '6793', '116', '5192', '1485', 'Luxembourg', '1085.1853745191506', '1.7076402178713381']\n['', '', '', 'MS Zaandam', '2020-08-02 04:34:47', '', '', '9', '2', '0', '7', 'MS Zaandam', '', '22.22222222222222']\n['', '', '', 'Madagascar', '2020-08-02 04:34:47', '-18.766947', '46.869107', '11273', '107', '8109', '3057', 'Madagascar', '40.70995003831386', '0.949170584582631']\n['', '', '', 'Malawi', '2020-08-02 04:34:47', '-13.254307999999998', '34.301525', '4186', '120', '1914', '2152', 'Malawi', '21.881912424780932', '2.866698518872432']\n['', '', '', 'Malaysia', '2020-08-02 04:34:47', '4.210483999999999', '101.975766', '8985', '125', '8647', '213', 'Malaysia', '27.76061470435733', '1.391207568169171']\n['', '', '', 'Maldives', '2020-08-02 04:34:47', '3.2028', '73.2207', '3949', '17', '2613', '1319', 'Maldives', '730.5630274798258', '0.4304887313243859']\n['', '', '', 'Mali', '2020-08-02 04:34:47', '17.570692', '-3.996166000000001', '2535', '124', '1937', '474', 'Mali', '12.518002962248369', '4.891518737672584']\n['', '', '', 'Malta', '2020-08-02 04:34:47', '35.9375', '14.3754', '845', '9', '665', '171', 'Malta', '191.3760732347539', '1.0650887573964498']\n['', '', '', 'Mauritania', '2020-08-02 04:34:47', '21.0079', '-10.9408', '6319', '157', '5043', '1119', 'Mauritania', '135.9024100686932', '2.4845703434087674']\n['', '', '', 'Mauritius', '2020-08-02 04:34:47', '-20.348404', '57.552152', '344', '10', '332', '2', 'Mauritius', '27.048979883893825', '2.9069767441860463']\n['', '', '', 'Moldova', '2020-08-02 04:34:47', '47.4116', '28.3699', '25113', '788', '17571', '6754', 'Moldova', '622.5391754956603', '3.137817066857803']\n['', '', '', 'Monaco', '2020-08-02 04:34:47', '43.7333', '7.4167', '120', '4', '105', '11', 'Monaco', '305.7792273978188', '3.3333333333333335']\n['', '', '', 'Mongolia', '2020-08-02 04:34:47', '46.8625', '103.8467', '293', '0', '230', '63', 'Mongolia', '8.937580911035381', '0.0']\n['', '', '', 'Montenegro', '2020-08-02 04:34:47', '42.708678000000006', '19.37439', '3198', '50', '1293', '1855', 'Montenegro', '509.1853988937398', '1.5634771732332708']\n['', '', '', 'Morocco', '2020-08-02 04:34:47', '31.7917', '-7.0926', '25015', '367', '17960', '6688', 'Morocco', '67.77193669085143', '1.467119728163102']\n['', '', '', 'Mozambique', '2020-08-02 04:34:47', '-18.665695', '35.529562', '1907', '12', '645', '1250', 'Mozambique', '6.101338855146313', '0.6292606187729418']\n['', '', '', 'Namibia', '2020-08-02 04:34:47', '-22.9576', '18.4904', '2224', '11', '171', '2042', 'Namibia', '87.52749008625239', '0.49460431654676257']\n['', '', '', 'Nepal', '2020-08-02 04:34:47', '28.1667', '84.25', '20086', '56', '14492', '5538', 'Nepal', '68.93685814863454', '0.27880115503335656']\n['', '', '', 'New Zealand', '2020-08-02 04:34:47', '-40.9006', '174.886', '1565', '22', '1518', '25', 'New Zealand', '32.45384451560097', '1.4057507987220448']\n['', '', '', 'Nicaragua', '2020-08-02 04:34:47', '12.865416', '-85.207229', '3672', '116', '2492', '1064', 'Nicaragua', '55.43014669364912', '3.159041394335512']\n['', '', '', 'Niger', '2020-08-02 04:34:47', '17.607789', '8.081666', '1136', '69', '1028', '39', 'Niger', '4.692928005361836', '6.073943661971831']\n['', '', '', 'Nigeria', '2020-08-02 04:34:47', '9.082', '8.6753', '43537', '883', '20087', '22567', 'Nigeria', '21.12015485895002', '2.0281599558995795']\n['', '', '', 'North Macedonia', '2020-08-02 04:34:47', '41.6086', '21.7453', '10891', '493', '6698', '3700', 'North Macedonia', '522.7562902590983', '4.526673400055091']\n['', '', '', 'Norway', '2020-08-02 04:34:47', '60.472', '8.4689', '9253', '255', '8752', '246', 'Norway', '170.6804455510379', '2.7558629633632337']\n['', '', '', 'Oman', '2020-08-02 04:34:47', '21.512583', '55.92325500000001', '79159', '421', '61421', '17317', 'Oman', '1550.1245245878783', '0.5318409782842128']\n['', '', '', 'Panama', '2020-08-02 04:34:47', '8.538', '-80.7821', '66383', '1449', '40081', '24853', 'Panama', '1538.5068212242236', '2.1827877619269995']\n['', '', '', 'Papua New Guinea', '2020-08-02 04:34:47', '-6.314993', '143.95555', '91', '2', '34', '55', 'Papua New Guinea', '1.0170976347785694', '2.197802197802198']\n['', '', '', 'Paraguay', '2020-08-02 04:34:47', '-23.4425', '-58.4438', '5485', '52', '3786', '1647', 'Paraguay', '76.90118373143892', '0.9480401093892434']\n['', '', '', 'Philippines', '2020-08-02 04:34:47', '12.879721', '121.774017', '98232', '2039', '65265', '30928', 'Philippines', '89.64320804087677', '2.07569834677091']\n['', '', '', 'Poland', '2020-08-02 04:34:47', '51.9194', '19.1451', '46346', '1721', '34374', '10251', 'Poland', '122.45748330662684', '3.71337332240107']\n['', '', '', 'Portugal', '2020-08-02 04:34:47', '39.3999', '-8.2245', '51310', '1737', '36783', '12790', 'Portugal', '503.2016708923773', '3.3853050087702203']\n['', '', '', 'Qatar', '2020-08-02 04:34:47', '25.3548', '51.1839', '110911', '174', '107578', '3159', 'Qatar', '3849.659500322798', '0.15688254546438135']\n['', '', '', 'Romania', '2020-08-02 04:34:47', '45.9432', '24.9668', '52111', '2379', '27346', '22386', 'Romania', '270.8798284533448', '4.5652549365776895']\n['', '', '', 'Rwanda', '2020-08-02 04:34:47', '-1.9403', '29.8739', '2042', '5', '1119', '918', 'Rwanda', '15.765650477073061', '0.24485798237022527']\n['', '', '', 'Saint Kitts and Nevis', '2020-08-02 04:34:47', '17.357822', '-62.782998', '17', '0', '16', '1', 'Saint Kitts and Nevis', '31.959693186945405', '0.0']\n['', '', '', 'Saint Lucia', '2020-08-02 04:34:47', '13.9094', '-60.9789', '25', '0', '22', '3', 'Saint Lucia', '13.614407310392153', '0.0']\n['', '', '', 'Saint Vincent and the Grenadines', '2020-08-02 04:34:47', '12.9843', '-61.2872', '54', '0', '44', '10', 'Saint Vincent and the Grenadines', '48.67188837913599', '0.0']\n['', '', '', 'San Marino', '2020-08-02 04:34:47', '43.9424', '12.4578', '699', '42', '657', '0', 'San Marino', '2059.6381637102954', '6.008583690987124']\n['', '', '', 'Sao Tome and Principe', '2020-08-02 04:34:47', '0.18636', '6.613081', '874', '15', '782', '77', 'Sao Tome and Principe', '398.7935809747172', '1.7162471395881007']\n['', '', '', 'Saudi Arabia', '2020-08-02 04:34:47', '23.885942', '45.079162', '277478', '2887', '237548', '37043', 'Saudi Arabia', '797.032975394546', '1.040442845919316']\n['', '', '', 'Senegal', '2020-08-02 04:34:47', '14.4974', '-14.4524', '10284', '209', '6822', '3253', 'Senegal', '61.41927253637586', '2.032283158304162']\n['', '', '', 'Serbia', '2020-08-02 04:34:47', '44.0165', '21.0059', '25882', '582', '0', '25300', 'Serbia', '296.221860811663', '2.248667027277645']\n['', '', '', 'Seychelles', '2020-08-02 04:34:47', '-4.6796', '55.492', '114', '0', '39', '75', 'Seychelles', '115.92434411226357', '0.0']\n['', '', '', 'Sierra Leone', '2020-08-02 04:34:47', '8.460555000000001', '-11.779889', '1823', '67', '1362', '394', 'Sierra Leone', '22.853245931890307', '3.6752605595172794']\n['', '', '', 'Singapore', '2020-08-02 04:34:47', '1.2833', '103.8333', '52512', '27', '46740', '5745', 'Singapore', '897.5883978084703', '0.05141681901279708']\n['', '', '', 'Slovakia', '2020-08-02 04:34:47', '48.669', '19.699', '2337', '29', '1742', '566', 'Slovakia', '42.804996590436396', '1.2409071459135643']\n['', '', '', 'Slovenia', '2020-08-02 04:34:47', '46.1512', '14.9955', '2171', '119', '1821', '231', 'Slovenia', '104.42862007992564', '5.481345002303086']\n['', '', '', 'Somalia', '2020-08-02 04:34:47', '5.152149', '46.199616', '3212', '93', '1562', '1557', 'Somalia', '20.209876929274053', '2.895392278953923']\n['', '', '', 'South Africa', '2020-08-02 04:34:47', '-30.5595', '22.9375', '503290', '8153', '342461', '152676', 'South Africa', '848.5940255972607', '1.6199407896044031']\n['', '', '', 'South Sudan', '2020-08-02 04:34:47', '6.877000000000002', '31.307', '2352', '46', '1175', '1131', 'South Sudan', '21.011764712188405', '1.9557823129251701']\n['', '', '', 'Sri Lanka', '2020-08-02 04:34:47', '7.873054', '80.77179699999998', '2815', '11', '2439', '365', 'Sri Lanka', '13.146066103930972', '0.3907637655417407']\n['', '', '', 'Sudan', '2020-08-02 04:34:47', '12.8628', '30.2176', '11738', '752', '6137', '4849', 'Sudan', '26.76897532773009', '6.406542852274663']\n['', '', '', 'Suriname', '2020-08-02 04:34:47', '3.9193', '-56.0278', '1760', '26', '1161', '573', 'Suriname', '300.01670547564584', '1.4772727272727273']\n['', '', '', 'Switzerland', '2020-08-02 04:34:47', '46.8182', '8.2275', '35412', '1981', '31300', '2131', 'Switzerland', '409.1688391099411', '5.5941488760872025']\n['', '', '', 'Syria', '2020-08-02 04:34:47', '34.802075', '38.99681500000001', '780', '43', '237', '500', 'Syria', '4.456975529547262', '5.512820512820513']\n['', '', '', 'Taiwan*', '2020-08-02 04:34:47', '23.7', '121.0', '474', '7', '441', '26', 'Taiwan*', '1.990193886451881', '1.4767932489451476']\n['', '', '', 'Tajikistan', '2020-08-02 04:34:47', '38.861034', '71.276093', '7451', '60', '6233', '1158', 'Tajikistan', '78.12203477547176', '0.80526103878674']\n['', '', '', 'Tanzania', '2020-08-02 04:34:47', '-6.369028', '34.888822', '509', '21', '183', '305', 'Tanzania', '0.852107987092757', '4.12573673870334']\n['', '', '', 'Thailand', '2020-08-02 04:34:47', '15.870032', '100.992541', '3312', '58', '3135', '119', 'Thailand', '4.744987168907131', '1.751207729468599']\n['', '', '', 'Timor-Leste', '2020-08-02 04:34:47', '-8.874217', '125.727539', '24', '0', '24', '0', 'Timor-Leste', '1.820330359621432', '0.0']\n['', '', '', 'Togo', '2020-08-02 04:34:47', '8.6195', '0.8248', '958', '19', '647', '292', 'Togo', '11.57181342999542', '1.9832985386221293']\n['', '', '', 'Trinidad and Tobago', '2020-08-02 04:34:47', '10.6918', '-61.2225', '173', '8', '132', '33', 'Trinidad and Tobago', '12.361637195237412', '4.624277456647399']\n['', '', '', 'Tunisia', '2020-08-02 04:34:47', '33.886917', '9.537499', '1552', '51', '1217', '284', 'Tunisia', '13.131823027023973', '3.286082474226804']\n['', '', '', 'Turkey', '2020-08-02 04:34:47', '38.9637', '35.2433', '231869', '5710', '215516', '10643', 'Turkey', '274.92478663535604', '2.4625974149196312']\n['', '', '', 'Uganda', '2020-08-02 04:34:47', '1.373333', '32.290275', '1176', '4', '1045', '127', 'Uganda', '2.570997573293107', '0.3401360544217687']\n['', '', '', 'United Arab Emirates', '2020-08-02 04:34:47', '23.424076', '53.847818', '60760', '351', '54255', '6154', 'United Arab Emirates', '614.3330906737847', '0.5776826859776168']\n['', '', '', 'Uruguay', '2020-08-02 04:34:47', '-32.5228', '-55.7658', '1278', '35', '1004', '239', 'Uruguay', '36.79045589938415', '2.7386541471048513']\n['', '', '', 'Uzbekistan', '2020-08-02 04:34:47', '41.377491', '64.585262', '24783', '147', '15299', '9337', 'Uzbekistan', '74.04718589172093', '0.593148529233749']\n['', '', '', 'Venezuela', '2020-08-02 04:34:47', '6.4238', '-66.5897', '19443', '169', '11129', '8145', 'Venezuela', '68.37473264030669', '0.8692074268374222']\n['', '', '', 'Vietnam', '2020-08-02 04:34:47', '14.058324', '108.277199', '590', '3', '373', '214', 'Vietnam', '0.6061316918903576', '0.5084745762711864']\n['', '', '', 'West Bank and Gaza', '2020-08-02 04:34:47', '31.9522', '35.2332', '12160', '83', '5324', '6753', 'West Bank and Gaza', '238.3651911547696', '0.6825657894736842']\n['', '', '', 'Western Sahara', '2020-08-02 04:34:47', '24.2155', '-12.8858', '10', '1', '8', '1', 'Western Sahara', '1.674116485025028', '10.0']\n['', '', '', 'Yemen', '2020-08-02 04:34:47', '15.552727', '48.516388', '1730', '494', '862', '374', 'Yemen', '5.8003146788060675', '28.55491329479769']\n['', '', '', 'Zambia', '2020-08-02 04:34:47', '-13.133897', '27.849332', '6228', '165', '4130', '1933', 'Zambia', '33.877365676897824', '2.649325626204239']\n['', '', '', 'Zimbabwe', '2020-08-02 04:34:47', '-19.015438', '29.154857', '3659', '69', '1011', '2579', 'Zimbabwe', '24.618300284997698', '1.8857611369226566']\n['', '', 'Unknown', 'Colombia', '2020-07-17 22:34:48', '', '', '0', '0', '0', '0', 'Unknown, Colombia', '', '']\n['', '', 'Grand Princess', 'Canada', '2020-07-13 12:34:33', '', '', '13', '0', '13', '0', 'Grand Princess, Canada', '', '0.0']\n['16061', 'Lewis', 'Idaho', 'US', '2020-07-10 02:34:22', '46.23315327', '-116.434146', '1', '0', '0', '1', 'Lewis, Idaho, US', '26.055237102657642', '0.0']\n['41069', 'Wheeler', 'Oregon', 'US', '2020-07-06 19:33:59', '44.72698162', '-120.02814270000002', '0', '0', '0', '0', 'Wheeler, Oregon, US', '0.0', '']\n"
    }
   ],
   "source": [
    "CSV_URL = 'https://raw.githubusercontent.com/CSSEGISandData/COVID-19/master/csse_covid_19_data/csse_covid_19_daily_reports/08-01-2020.csv'\n",
    "\n",
    "with requests.Session() as s:\n",
    "    download = s.get(CSV_URL)\n",
    "\n",
    "    decoded_content = download.content.decode('utf-8')\n",
    "\n",
    "    cr = csv.reader(decoded_content.splitlines(), delimiter=',')\n",
    "    my_list = list(cr)\n",
    "    for row in my_list:\n",
    "        print(row)"
   ]
  },
  {
   "cell_type": "code",
   "execution_count": 14,
   "metadata": {},
   "outputs": [
    {
     "name": "stdout",
     "output_type": "stream",
     "text": "Alabama 1996.0\nAlaska 30.0\nAmerican Samoa 0.0\nArizona 4688.0\nArkansas 663.0\nCalifornia 11946.0\nColorado 1910.0\nConnecticut 4460.0\nDelaware 600.0\nDiamond Princess 0.0\nDistrict of Columbia 602.0\nFlorida 10168.0\nGeorgia 4998.0\nGrand Princess 3.0\nGuam 6.0\nHawaii 46.0\nIdaho 305.0\nIllinois 8066.0\nIndiana 3208.0\nIowa 1029.0\nKansas 426.0\nKentucky 864.0\nLouisiana 4687.0\nMaine 129.0\nMaryland 3674.0\nMassachusetts 8901.0\nMichigan 6634.0\nMinnesota 1799.0\nMississippi 2214.0\nMissouri 1445.0\nMontana 89.0\nNebraska 376.0\nNevada 1185.0\nNew Hampshire 428.0\nNew Jersey 15941.0\nNew Mexico 739.0\nNew York 32864.0\nNorth Carolina 2494.0\nNorth Dakota 132.0\nNorthern Mariana Islands 2.0\nOhio 3955.0\nOklahoma 715.0\nOregon 414.0\nPennsylvania 7537.0\nPuerto Rico 374.0\nRhode Island 1030.0\nSouth Carolina 2459.0\nSouth Dakota 159.0\nTennessee 1549.0\nTexas 11418.0\nUtah 383.0\nVermont 58.0\nVirgin Islands 10.0\nVirginia 2436.0\nWashington 1850.0\nWest Virginia 171.0\nWisconsin 1068.0\nWyoming 37.0\n"
    }
   ],
   "source": [
    "file_name = \"08-21-2020.csv\"\n",
    "data = Load_Data(file_name)\n",
    "\n",
    "for i in data:\n",
    "    record = Data(**{\n",
    "        'state' : i[0],\n",
    "        'deaths' : i[6]\n",
    "    })\n",
    "    print(record.state[2:(len(record.state) - 1)], record.deaths)\n"
   ]
  },
  {
   "cell_type": "code",
   "execution_count": 43,
   "metadata": {},
   "outputs": [
    {
     "name": "stderr",
     "output_type": "stream",
     "text": "C:\\Users\\Zachary\\Anaconda3\\lib\\site-packages\\ipykernel_launcher.py:3: VisibleDeprecationWarning: Reading unicode strings without specifying the encoding argument is deprecated. Set the encoding, use None for the system default.\n  This is separate from the ipykernel package so we can avoid doing imports until\n15527\nAL\n4678\nAR\n-1\nAS\n21747\nAZ\n-1\nCA\n7186\nCO\n11357\nCT\n-1\nDC\n-1\nDE\n41494\nFL\n26163\nGA\n-1\nGU\n610\nHI\n-1\nIA\n1551\nID\n-1\nIL\n11651\nIN\n2537\nKS\n4862\nKY\n-1\nLA\n12411\nMA\n14756\nMD\n432\nME\n-1\nMI\n6863\nMN\n-1\nMO\n4\nMP\n5410\nMS\n518\nMT\n-1\nNC\n630\nND\n2119\nNE\n720\nNH\n22918\nNJ\n3238\nNM\n-1\nNV\n89995\nNY\n14236\nOH\n5369\nOK\n2235\nOR\n-1\nPA\n-1\nPR\n2620\nRI\n8353\nSC\n1138\nSD\n7624\nTN\n-1\nTX\n3288\nUT\n17263\nVA\n-1\nVI\n-1\nVT\n7018\nWA\n6263\nWI\n-1\nWV\n227\nWY\n-1\nAK\n15339\nAL\n4606\nAR\n-1\nAS\n21611\nAZ\n-1\nCA\n7173\nCO\n11357\nCT\n-1\nDC\n-1\nDE\n41279\nFL\n26062\nGA\n-1\nGU\n604\nHI\n-1\nIA\n1536\nID\n-1\nIL\n11591\nIN\n2470\nKS\n4835\nKY\n-1\nLA\n12401\nMA\n14706\nMD\n431\nME\n-1\nMI\n6830\nMN\n-1\nMO\n4\nMP\n5410\nMS\n512\nMT\n-1\nNC\n624\nND\n2108\nNE\n719\nNH\n22888\nNJ\n3219\nNM\n-1\nNV\n89995\nNY\n14164\nOH\n5318\nOK\n2222\nOR\n-1\nPA\n-1\nPR\n2611\nRI\n8295\nSC\n1120\nSD\n7549\nTN\n-1\nTX\n3273\nUT\n17157\nVA\n-1\nVI\n-1\nVT\n6993\nWA\n6222\nWI\n-1\nWV\n224\nWY\n-1\nAK\n15339\nAL\n4574\nAR\n-1\nAS\n21593\nAZ\n-1\nCA\n7161\nCO\n11275\nCT\n-1\nDC\n-1\nDE\n40985\nFL\n25845\nGA\n-1\nGU\n599\nHI\n-1\nIA\n1502\nID\n-1\nIL\n11528\nIN\n2470\nKS\n4777\nKY\n-1\nLA\n12387\nMA\n14672\nMD\n429\nME\n-1\nMI\n6792\nMN\n-1\nMO\n4\nMP\n5410\nMS\n509\nMT\n-1\nNC\n611\nND\n2089\nNE\n718\nNH\n22854\nNJ\n3202\nNM\n-1\nNV\n89995\nNY\n14083\nOH\n5253\nOK\n2215\nOR\n-1\nPA\n-1\nPR\n2604\nRI\n8236\nSC\n1109\nSD\n7444\nTN\n-1\nTX\n3263\nUT\n17039\nVA\n-1\nVI\n-1\nVT\n6966\nWA\n6173\nWI\n-1\nWV\n221\nWY\n-1\nAK\n15137\nAL\n4524\nAR\n-1\nAS\n21522\nAZ\n-1\nCA\n7142\nCO\n11275\nCT\n-1\nDC\n-1\nDE\n40661\nFL\n25589\nGA\n-1\nGU\n598\nHI\n-1\nIA\n1468\nID\n-1\nIL\n11467\nIN\n2441\nKS\n4730\nKY\n-1\nLA\n12368\nMA\n14636\nMD\n429\nME\n-1\nMI\n6760\nMN\n-1\nMO\n4\nMP\n5410\nMS\n502\nMT\n-1\nNC\n604\nND\n2079\nNE\n718\nNH\n22812\nNJ\n3195\nNM\n-1\nNV\n89995\nNY\n13967\nOH\n5137\nOK\n2206\nOR\n-1\nPA\n-1\nPR\n2589\nRI\n8182\nSC\n1094\nSD\n7355\nTN\n-1\nTX\n3242\nUT\n16831\nVA\n-1\nVI\n-1\nVT\n6860\nWA\n6118\nWI\n-1\nWV\n219\nWY\n-1\nAK\n14914\nAL\n4486\nAR\n-1\nAS\n21525\nAZ\n-1\nCA\n7138\nCO\n11275\nCT\n-1\nDC\n-1\nDE\n40547\nFL\n25538\nGA\n-1\nGU\n597\nHI\n-1\nIA\n1466\nID\n-1\nIL\n11410\nIN\n2441\nKS\n4728\nKY\n-1\nLA\n12357\nMA\n14603\nMD\n427\nME\n-1\nMI\n6743\nMN\n-1\nMO\n4\nMP\n5326\nMS\n498\nMT\n-1\nNC\n602\nND\n2068\nNE\n718\nNH\n22802\nNJ\n3186\nNM\n-1\nNV\n89995\nNY\n13887\nOH\n5113\nOK\n2161\nOR\n-1\nPA\n-1\nPR\n2589\nRI\n8171\nSC\n1084\nSD\n7312\nTN\n-1\nTX\n3225\nUT\n16803\nVA\n-1\nVI\n-1\nVT\n6860\nWA\n6089\nWI\n-1\nWV\n219\nWY\n-1\nAK\n14914\nAL\n4462\nAR\n-1\nAS\n21527\nAZ\n-1\nCA\n7134\nCO\n11275\nCT\n-1\nDC\n-1\nDE\n40487\nFL\n25523\nGA\n-1\nGU\n592\nHI\n-1\nIA\n1466\nID\n-1\nIL\n11365\nIN\n2415\nKS\n4713\nKY\n-1\nLA\n12350\nMA\n14573\nMD\n424\nME\n-1\nMI\n6719\nMN\n-1\nMO\n4\nMP\n5326\nMS\n486\nMT\n-1\nNC\n598\nND\n2065\nNE\n718\nNH\n22796\nNJ\n3171\nNM\n-1\nNV\n89995\nNY\n13841\nOH\n5105\nOK\n2161\nOR\n-1\nPA\n-1\nPR\n2587\nRI\n8144\nSC\n1079\nSD\n7296\nTN\n-1\nTX\n3207\nUT\n16766\nVA\n-1\nVI\n-1\nVT\n6842\nWA\n6070\nWI\n-1\nWV\n219\nWY\n-1\nAK\n14914\nAL\n4456\nAR\n-1\nAS\n21520\nAZ\n-1\nCA\n7125\nCO\n11275\nCT\n-1\nDC\n-1\nDE\n40373\nFL\n25501\nGA\n-1\nGU\n583\nHI\n-1\nIA\n1461\nID\n-1\nIL\n11318\nIN\n2415\nKS\n4713\nKY\n-1\nLA\n12347\nMA\n14516\nMD\n424\nME\n-1\nMI\n6676\nMN\n-1\nMO\n4\nMP\n5326\nMS\n477\nMT\n-1\nNC\n596\nND\n2060\nNE\n717\nNH\n22790\nNJ\n3171\nNM\n-1\nNV\n89995\nNY\n13808\nOH\n5105\nOK\n2161\nOR\n-1\nPA\n-1\nPR\n2581\nRI\n8133\nSC\n1068\nSD\n7276\nTN\n-1\nTX\n3188\nUT\n16734\nVA\n-1\nVI\n-1\nVT\n6848\nWA\n6048\nWI\n-1\nWV\n223\nWY\n-1\nAK\n14801\nAL\n4422\nAR\n-1\nAS\n21498\nAZ\n-1\nCA\n7104\nCO\n11275\nCT\n-1\nDC\n-1\nDE\n40127\nFL\n25402\nGA\n-1\nGU\n573\nHI\n-1\nIA\n1442\nID\n-1\nIL\n11265\nIN\n2415\nKS\n4699\nKY\n-1\nLA\n12335\nMA\n14473\nMD\n423\nME\n-1\nMI\n6635\nMN\n-1\nMO\n4\nMP\n5326\nMS\n474\nMT\n-1\nNC\n590\nND\n2033\nNE\n716\nNH\n22770\nNJ\n3169\nNM\n-1\nNV\n89995\nNY\n13731\nOH\n5061\nOK\n2161\nOR\n-1\nPA\n-1\nPR\n2559\nRI\n8073\nSC\n1062\nSD\n7206\nTN\n-1\nTX\n3172\nUT\n16593\nVA\n-1\nVI\n-1\nVT\n6834\nWA\n5998\nWI\n-1\nWV\n223\nWY\n-1\nAK\n14801\nAL\n4386\nAR\n-1\nAS\n21474\nAZ\n-1\nCA\n7090\nCO\n11275\nCT\n-1\nDC\n-1\nDE\n39884\nFL\n25259\nGA\n-1\nGU\n552\nHI\n-1\nIA\n1435\nID\n-1\nIL\n11196\nIN\n2361\nKS\n4684\nKY\n-1\nLA\n12325\nMA\n14427\nMD\n424\nME\n-1\nMI\n6592\nMN\n-1\nMO\n4\nMP\n5326\nMS\n472\nMT\n-1\nNC\n583\nND\n2027\nNE\n715\nNH\n22738\nNJ\n3159\nNM\n-1\nNV\n89995\nNY\n13663\nOH\n5013\nOK\n2175\nOR\n-1\nPA\n-1\nPR\n2540\nRI\n8006\nSC\n1052\nSD\n7125\nTN\n-1\nTX\n3153\nUT\n16525\nVA\n-1\nVI\n-1\nVT\n6795\nWA\n5946\nWI\n-1\nWV\n223\nWY\n-1\nAK\n14753\nAL\n4341\nAR\n-1\nAS\n21449\nAZ\n-1\nCA\n7053\nCO\n11180\nCT\n-1\nDC\n-1\nDE\n39611\nFL\n25025\nGA\n-1\nGU\n532\nHI\n-1\nIA\n1394\nID\n-1\nIL\n11143\nIN\n2361\nKS\n4652\nKY\n-1\nLA\n12295\nMA\n14351\nMD\n423\nME\n-1\nMI\n6566\nMN\n-1\nMO\n4\nMP\n5326\nMS\n461\nMT\n-1\nNC\n575\nND\n2014\nNE\n715\nNH\n22707\nNJ\n3151\nNM\n-1\nNV\n89995\nNY\n13574\nOH\n4961\nOK\n2167\nOR\n-1\nPA\n-1\nPR\n2542\nRI\n7948\nSC\n1043\nSD\n7061\nTN\n-1\nTX\n3134\nUT\n16433\nVA\n-1\nVI\n-1\nVT\n6787\nWA\n5916\nWI\n-1\nWV\n221\nWY\n-1\nAK\n14538\nAL\n4306\nAR\n-1\nAS\n21405\nAZ\n-1\nCA\n7028\nCO\n11180\nCT\n-1\nDC\n-1\nDE\n39311\nFL\n24847\nGA\n-1\nGU\n508\nHI\n-1\nIA\n1394\nID\n-1\nIL\n11094\nIN\n2304\nKS\n4616\nKY\n-1\nLA\n12386\nMA\n14337\nMD\n421\nME\n-1\nMI\n6520\nMN\n-1\nMO\n4\nMP\n5326\nMS\n447\nMT\n-1\nNC\n564\nND\n2006\nNE\n715\nNH\n22667\nNJ\n3134\nNM\n-1\nNV\n89995\nNY\n13479\nOH\n4903\nOK\n2162\nOR\n-1\nPA\n-1\nPR\n2528\nRI\n7870\nSC\n1036\nSD\n6978\nTN\n-1\nTX\n3110\nUT\n16238\nVA\n-1\nVI\n-1\nVT\n6763\nWA\n5878\nWI\n-1\nWV\n219\nWY\n-1\nAK\n14267\nAL\n4213\nAR\n-1\nAS\n21405\nAZ\n-1\nCA\n7010\nCO\n11180\nCT\n-1\nDC\n-1\nDE\n38942\nFL\n24604\nGA\n-1\nGU\n505\nHI\n-1\nIA\n1369\nID\n-1\nIL\n11043\nIN\n2304\nKS\n4580\nKY\n-1\nLA\n12364\nMA\n14303\nMD\n420\nME\n-1\nMI\n6480\nMN\n-1\nMO\n4\nMP\n5326\nMS\n436\nMT\n-1\nNC\n554\nND\n1994\nNE\n714\nNH\n22627\nNJ\n3126\nNM\n-1\nNV\n89995\nNY\n13376\nOH\n4821\nOK\n2149\nOR\n-1\nPA\n-1\nPR\n2519\nRI\n7811\nSC\n1029\nSD\n6878\nTN\n-1\nTX\n3093\nUT\n16167\nVA\n-1\nVI\n-1\nVT\n6740\nWA\n5817\nWI\n-1\nWV\n215\nWY\n-1\nAK\n14267\nAL\n4182\nAR\n-1\nAS\n21421\nAZ\n-1\nCA\n6993\nCO\n11180\nCT\n-1\nDC\n-1\nDE\n38857\nFL\n24572\nGA\n-1\nGU\n497\nHI\n-1\nIA\n1365\nID\n-1\nIL\n10843\nIN\n2278\nKS\n4560\nKY\n-1\nLA\n12361\nMA\n14255\nMD\n420\nME\n-1\nMI\n6454\nMN\n-1\nMO\n4\nMP\n5300\nMS\n432\nMT\n-1\nNC\n554\nND\n1992\nNE\n714\nNH\n22627\nNJ\n3116\nNM\n-1\nNV\n89995\nNY\n13317\nOH\n4814\nOK\n2108\nOR\n-1\nPA\n-1\nPR\n2519\nRI\n7782\nSC\n1017\nSD\n6840\nTN\n-1\nTX\n3080\nUT\n16089\nVA\n-1\nVI\n-1\nVT\n6740\nWA\n5804\nWI\n-1\nWV\n215\nWY\n-1\nAK\n14267\nAL\n4142\nAR\n-1\nAS\n21433\nAZ\n-1\nCA\n6945\nCO\n11180\nCT\n-1\nDC\n-1\nDE\n38761\nFL\n24533\nGA\n-1\nGU\n485\nHI\n-1\nIA\n1349\nID\n-1\nIL\n10839\nIN\n2278\nKS\n4560\nKY\n-1\nLA\n12358\nMA\n14217\nMD\n418\nME\n-1\nMI\n6411\nMN\n-1\nMO\n4\nMP\n5300\nMS\n429\nMT\n-1\nNC\n551\nND\n1982\nNE\n714\nNH\n22617\nNJ\n3106\nNM\n-1\nNV\n89995\nNY\n13288\nOH\n4794\nOK\n2108\nOR\n-1\nPA\n-1\nPR\n2514\nRI\n7765\nSC\n1006\nSD\n6751\nTN\n-1\nTX\n3057\nUT\n16058\nVA\n-1\nVI\n-1\nVT\n6679\nWA\n5775\nWI\n-1\nWV\n215\nWY\n-1\nAK\n14267\nAL\n4142\nAR\n-1\nAS\n21428\nAZ\n-1\nCA\n6928\nCO\n11180\nCT\n-1\nDC\n-1\nDE\n38474\nFL\n24335\nGA\n-1\nGU\n462\nHI\n-1\nIA\n1328\nID\n-1\nIL\n10818\nIN\n2278\nKS\n4532\nKY\n-1\nLA\n12334\nMA\n14184\nMD\n417\nME\n-1\nMI\n6357\nMN\n-1\nMO\n4\nMP\n5279\nMS\n417\nMT\n-1\nNC\n550\nND\n1968\nNE\n713\nNH\n22586\nNJ\n3091\nNM\n-1\nNV\n89995\nNY\n13221\nOH\n4719\nOK\n2108\nOR\n-1\nPA\n-1\nPR\n2496\nRI\n7598\nSC\n995\nSD\n6751\nTN\n-1\nTX\n3041\nUT\n15967\nVA\n-1\nVI\n-1\nVT\n6674\nWA\n5736\nWI\n-1\nWV\n215\nWY\n-1\nAK\n14005\nAL\n4104\nAR\n-1\nAS\n21426\nAZ\n-1\nCA\n6902\nCO\n11180\nCT\n-1\nDC\n-1\nDE\n38163\nFL\n24127\nGA\n-1\nGU\n444\nHI\n-1\nIA\n1304\nID\n-1\nIL\n10747\nIN\n2226\nKS\n4501\nKY\n-1\nLA\n12318\nMA\n14141\nMD\n415\nME\n-1\nMI\n6326\nMN\n-1\nMO\n4\nMP\n5267\nMS\n412\nMT\n-1\nNC\n534\nND\n1954\nNE\n713\nNH\n22560\nNJ\n3074\nNM\n-1\nNV\n89995\nNY\n13150\nOH\n4673\nOK\n2093\nOR\n-1\nPA\n-1\nPR\n2485\nRI\n7598\nSC\n983\nSD\n6677\nTN\n-1\nTX\n3015\nUT\n15938\nVA\n-1\nVI\n-1\nVT\n6640\nWA\n5684\nWI\n-1\nWV\n215\nWY\n-1\nAK\n14005\nAL\n4061\nAR\n-1\nAS\n21376\nAZ\n-1\nCA\n6894\nCO\n11087\nCT\n-1\nDC\n-1\nDE\n37847\nFL\n23939\nGA\n-1\nGU\n419\nHI\n-1\nIA\n1285\nID\n-1\nIL\n10605\nIN\n2226\nKS\n4446\nKY\n-1\nLA\n12299\nMA\n14090\nMD\n412\nME\n-1\nMI\n6274\nMN\n-1\nMO\n4\nMP\n5234\nMS\n402\nMT\n-1\nNC\n525\nND\n1946\nNE\n713\nNH\n22509\nNJ\n3050\nNM\n-1\nNV\n89995\nNY\n13043\nOH\n4609\nOK\n2063\nOR\n-1\nPA\n-1\nPR\n2478\nRI\n7598\nSC\n981\nSD\n6603\nTN\n-1\nTX\n2996\nUT\n15852\nVA\n-1\nVI\n-1\nVT\n6595\nWA\n5651\nWI\n-1\nWV\n213\nWY\n-1\nAK\n13793\nAL\n4013\nAR\n-1\nAS\n21365\nAZ\n-1\nCA\n6845\nCO\n11087\nCT\n-1\nDC\n-1\nDE\n37477\nFL\n23717\nGA\n-1\nGU\n419\nHI\n-1\nIA\n1269\nID\n-1\nIL\n10417\nIN\n2183\nKS\n4446\nKY\n-1\nLA\n12279\nMA\n14051\nMD\n410\nME\n-1\nMI\n6238\nMN\n-1\nMO\n4\nMP\n5208\nMS\n394\nMT\n-1\nNC\n519\nND\n1930\nNE\n713\nNH\n22468\nNJ\n3041\nNM\n-1\nNV\n89995\nNY\n12956\nOH\n4527\nOK\n2038\nOR\n-1\nPA\n-1\nPR\n2474\nRI\n7598\nSC\n974\nSD\n6515\nTN\n-1\nTX\n2969\nUT\n15755\nVA\n-1\nVI\n-1\nVT\n6542\nWA\n5610\nWI\n-1\nWV\n213\nWY\n-1\nAK\n13793\nAL\n3962\nAR\n-1\nAS\n21219\nAZ\n-1\nCA\n6841\nCO\n11087\nCT\n-1\nDC\n-1\nDE\n37032\nFL\n23425\nGA\n-1\nGU\n396\nHI\n-1\nIA\n1256\nID\n-1\nIL\n10343\nIN\n2183\nKS\n4399\nKY\n-1\nLA\n12268\nMA\n14007\nMD\n409\nME\n-1\nMI\n6195\nMN\n-1\nMO\n4\nMP\n5179\nMS\n383\nMT\n-1\nNC\n505\nND\n1910\nNE\n712\nNH\n22452\nNJ\n3031\nNM\n-1\nNV\n89995\nNY\n12859\nOH\n4431\nOK\n2028\nOR\n-1\nPA\n-1\nPR\n2460\nRI\n7439\nSC\n965\nSD\n6421\nTN\n-1\nTX\n2941\nUT\n15609\nVA\n-1\nVI\n-1\nVT\n6530\nWA\n5573\nWI\n-1\nWV\n211\nWY\n-1\nAK\n13502\nAL\n3920\nAR\n-1\nAS\n21241\nAZ\n-1\nCA\n6831\nCO\n11087\nCT\n-1\nDC\n-1\nDE\n36903\nFL\n23369\nGA\n-1\nGU\n377\nHI\n-1\nIA\n1246\nID\n-1\nIL\n10281\nIN\n2159\nKS\n4362\nKY\n-1\nLA\n12256\nMA\n13956\nMD\n408\nME\n-1\nMI\n6151\nMN\n-1\nMO\n4\nMP\n5149\nMS\n379\nMT\n-1\nNC\n501\nND\n1907\nNE\n711\nNH\n22448\nNJ\n3030\nNM\n-1\nNV\n89995\nNY\n12800\nOH\n4422\nOK\n1984\nOR\n-1\nPA\n-1\nPR\n2460\nRI\n7439\nSC\n959\nSD\n6378\nTN\n-1\nTX\n2926\nUT\n15598\nVA\n-1\nVI\n-1\nVT\n6500\nWA\n5558\nWI\n-1\nWV\n207\nWY\n-1\nAK\n13502\nAL\n3908\nAR\n-1\nAS\n21271\nAZ\n-1\nCA\n6808\nCO\n11087\nCT\n-1\nDC\n-1\nDE\n36764\nFL\n23325\nGA\n-1\nGU\n337\nHI\n-1\nIA\n1233\nID\n-1\nIL\n10219\nIN\n2159\nKS\n4362\nKY\n-1\nLA\n12256\nMA\n13864\nMD\n407\nME\n-1\nMI\n6113\nMN\n-1\nMO\n4\nMP\n5149\nMS\n378\nMT\n-1\nNC\n499\nND\n1891\nNE\n710\nNH\n22445\nNJ\n3018\nNM\n-1\nNV\n89995\nNY\n12778\nOH\n4368\nOK\n1984\nOR\n-1\nPA\n-1\nPR\n2455\nRI\n7439\nSC\n951\nSD\n6328\nTN\n-1\nTX\n2899\nUT\n15507\nVA\n-1\nVI\n-1\nVT\n6469\nWA\n5545\nWI\n-1\nWV\n203\nWY\n-1\nAK\n13330\nAL\n3856\nAR\n-1\nAS\n21210\nAZ\n-1\nCA\n6797\nCO\n11087\nCT\n-1\nDC\n-1\nDE\n36425\nFL\n23125\nGA\n-1\nGU\n317\nHI\n-1\nIA\n1226\nID\n-1\nIL\n10132\nIN\n2159\nKS\n4362\nKY\n-1\nLA\n12245\nMA\n13823\nMD\n407\nME\n-1\nMI\n6064\nMN\n-1\nMO\n4\nMP\n5127\nMS\n363\nMT\n-1\nNC\n491\nND\n1877\nNE\n710\nNH\n22393\nNJ\n3009\nNM\n-1\nNV\n89995\nNY\n12719\nOH\n4316\nOK\n1984\nOR\n-1\nPA\n-1\nPR\n2438\nRI\n7439\nSC\n948\nSD\n6255\nTN\n-1\nTX\n2870\nUT\n15482\nVA\n-1\nVI\n-1\nVT\n6400\nWA\n5505\nWI\n-1\nWV\n203\nWY\n-1\nAK\n13330\nAL\n3790\nAR\n-1\nAS\n21143\nAZ\n-1\nCA\n6784\nCO\n11087\nCT\n-1\nDC\n-1\nDE\n36070\nFL\n22880\nGA\n-1\nGU\n317\nHI\n-1\nIA\n1200\nID\n-1\nIL\n10145\nIN\n2090\nKS\n4349\nKY\n-1\nLA\n12225\nMA\n13785\nMD\n405\nME\n-1\nMI\n6019\nMN\n-1\nMO\n4\nMP\n5097\nMS\n357\nMT\n-1\nNC\n478\nND\n1851\nNE\n710\nNH\n22359\nNJ\n3002\nNM\n-1\nNV\n89995\nNY\n12615\nOH\n4268\nOK\n1979\nOR\n-1\nPA\n-1\nPR\n2431\nRI\n7146\nSC\n940\nSD\n6156\nTN\n-1\nTX\n2853\nUT\n15357\nVA\n-1\nVI\n-1\nVT\n6388\nWA\n5469\nWI\n-1\nWV\n202\nWY\n-1\nAK\n13080\nAL\n3743\nAR\n-1\nAS\n21020\nAZ\n-1\nCA\n6781\nCO\n11015\nCT\n-1\nDC\n-1\nDE\n35620\nFL\n22664\nGA\n-1\nGU\n303\nHI\n-1\nIA\n1170\nID\n-1\nIL\n10090\nIN\n2090\nKS\n4301\nKY\n-1\nLA\n12213\nMA\n13744\nMD\n403\nME\n-1\nMI\n5988\nMN\n-1\nMO\n4\nMP\n5063\nMS\n348\nMT\n-1\nNC\n478\nND\n1835\nNE\n712\nNH\n22311\nNJ\n2998\nNM\n-1\nNV\n89995\nNY\n12529\nOH\n4192\nOK\n1958\nOR\n-1\nPA\n-1\nPR\n2419\nRI\n7146\nSC\n935\nSD\n6069\nTN\n-1\nTX\n2832\nUT\n15232\nVA\n-1\nVI\n-1\nVT\n6358\nWA\n5430\nWI\n-1\nWV\n197\nWY\n-1\nAK\n12958\nAL\n3695\nAR\n-1\nAS\n20878\nAZ\n-1\nCA\n6739\nCO\n11015\nCT\n-1\nDC\n-1\nDE\n35112\nFL\n22429\nGA\n-1\nGU\n288\nHI\n-1\nIA\n1129\nID\n-1\nIL\n10037\nIN\n2034\nKS\n4252\nKY\n-1\nLA\n12192\nMA\n13698\nMD\n401\nME\n-1\nMI\n5932\nMN\n-1\nMO\n4\nMP\n5025\nMS\n339\nMT\n-1\nNC\n469\nND\n1883\nNE\n712\nNH\n22259\nNJ\n2984\nNM\n-1\nNV\n89995\nNY\n12436\nOH\n4115\nOK\n1929\nOR\n-1\nPA\n-1\nPR\n2405\nRI\n7146\nSC\n927\nSD\n5981\nTN\n-1\nTX\n2804\nUT\n15163\nVA\n-1\nVI\n-1\nVT\n6296\nWA\n5380\nWI\n-1\nWV\n193\nWY\n-1\nAK\n12958\nAL\n3621\nAR\n-1\nAS\n20756\nAZ\n-1\nCA\n6735\nCO\n11015\nCT\n-1\nDC\n-1\nDE\n34607\nFL\n22133\nGA\n-1\nGU\n283\nHI\n-1\nIA\n1110\nID\n-1\nIL\n9973\nIN\n2034\nKS\n4215\nKY\n-1\nLA\n12178\nMA\n13658\nMD\n399\nME\n-1\nMI\n5886\nMN\n-1\nMO\n4\nMP\n4989\nMS\n330\nMT\n-1\nNC\n461\nND\n1883\nNE\n709\nNH\n22218\nNJ\n2965\nNM\n-1\nNV\n89995\nNY\n12319\nOH\n4021\nOK\n1913\nOR\n-1\nPA\n-1\nPR\n2380\nRI\n6852\nSC\n921\nSD\n5881\nTN\n-1\nTX\n2782\nUT\n15000\nVA\n-1\nVI\n-1\nVT\n6255\nWA\n5327\nWI\n-1\nWV\n195\nWY\n-1\nAK\n12607\nAL\n3570\nAR\n-1\nAS\n20755\nAZ\n-1\nCA\n6727\nCO\n11015\nCT\n-1\nDC\n-1\nDE\n34341\nFL\n22087\nGA\n-1\nGU\n279\nHI\n-1\nIA\n1103\nID\n-1\nIL\n9935\nIN\n2020\nKS\n4193\nKY\n-1\nLA\n12173\nMA\n13614\nMD\n400\nME\n-1\nMI\n5851\nMN\n-1\nMO\n4\nMP\n4916\nMS\n326\nMT\n-1\nNC\n459\nND\n1883\nNE\n708\nNH\n22206\nNJ\n2957\nNM\n-1\nNV\n89995\nNY\n12236\nOH\n4013\nOK\n1863\nOR\n-1\nPA\n-1\nPR\n2380\nRI\n6852\nSC\n916\nSD\n5847\nTN\n-1\nTX\n2771\nUT\n14967\nVA\n-1\nVI\n-1\nVT\n6230\nWA\n5304\nWI\n-1\nWV\n191\nWY\n-1\nAK\n12607\nAL\n3562\nAR\n-1\nAS\n20795\nAZ\n-1\nCA\n6718\nCO\n11015\nCT\n-1\nDC\n-1\nDE\n34074\nFL\n22028\nGA\n-1\nGU\n277\nHI\n-1\nIA\n1091\nID\n-1\nIL\n9872\nIN\n2020\nKS\n4193\nKY\n-1\nLA\n12170\nMA\n13556\nMD\n399\nME\n-1\nMI\n5822\nMN\n-1\nMO\n4\nMP\n4916\nMS\n324\nMT\n-1\nNC\n457\nND\n1880\nNE\n706\nNH\n22197\nNJ\n2946\nNM\n-1\nNV\n89995\nNY\n12210\nOH\n3998\nOK\n1863\nOR\n-1\nPA\n-1\nPR\n2375\nRI\n6852\nSC\n913\nSD\n5813\nTN\n-1\nTX\n2760\nUT\n14965\nVA\n-1\nVI\n-1\nVT\n6206\nWA\n5275\nWI\n-1\nWV\n191\nWY\n-1\nAK\n12456\nAL\n3566\nAR\n-1\nAS\n20515\nAZ\n-1\nCA\n6700\nCO\n11015\nCT\n-1\nDC\n-1\nDE\n33568\nFL\n21818\nGA\n-1\nGU\n267\nHI\n-1\nIA\n1068\nID\n-1\nIL\n9801\nIN\n2020\nKS\n4158\nKY\n-1\nLA\n12150\nMA\n13508\nMD\n399\nME\n-1\nMI\n5783\nMN\n-1\nMO\n4\nMP\n4873\nMS\n319\nMT\n-1\nNC\n455\nND\n1880\nNE\n705\nNH\n22161\nNJ\n2928\nNM\n-1\nNV\n89995\nNY\n12128\nOH\n3953\nOK\n1863\nOR\n-1\nPA\n-1\nPR\n2350\nRI\n6852\nSC\n903\nSD\n5725\nTN\n-1\nTX\n2744\nUT\n14776\nVA\n-1\nVI\n-1\nVT\n6182\nWA\n5235\nWI\n-1\nWV\n191\nWY\n-1\nAK\n12456\nAL\n3566\nAR\n-1\nAS\n20503\nAZ\n-1\nCA\n6685\nCO\n11015\nCT\n-1\nDC\n-1\nDE\n32947\nFL\n21581\nGA\n-1\nGU\n267\nHI\n-1\nIA\n1051\nID\n-1\nIL\n9678\nIN\n1975\nKS\n4116\nKY\n-1\nLA\n12131\nMA\n13463\nMD\n395\nME\n-1\nMI\n5742\nMN\n-1\nMO\n4\nMP\n4847\nMS\n315\nMT\n-1\nNC\n445\nND\n1880\nNE\n705\nNH\n22125\nNJ\n2907\nNM\n-1\nNV\n89995\nNY\n12023\nOH\n3901\nOK\n1853\nOR\n-1\nPA\n-1\nPR\n2341\nRI\n6482\nSC\n896\nSD\n5648\nTN\n-1\nTX\n2721\nUT\n14647\nVA\n-1\nVI\n-1\nVT\n6137\nWA\n5170\nWI\n-1\nWV\n189\nWY\n-1\nAK\n12292\nAL\n3472\nAR\n-1\nAS\n19821\nAZ\n-1\nCA\n6679\nCO\n10920\nCT\n-1\nDC\n-1\nDE\n32349\nFL\n21379\nGA\n-1\nGU\n260\nHI\n-1\nIA\n1037\nID\n-1\nIL\n9678\nIN\n1975\nKS\n4091\nKY\n-1\nLA\n12109\nMA\n13348\nMD\n394\nME\n-1\nMI\n5711\nMN\n-1\nMO\n4\nMP\n4794\nMS\n301\nMT\n-1\nNC\n440\nND\n1880\nNE\n705\nNH\n22096\nNJ\n2897\nNM\n-1\nNV\n89995\nNY\n11901\nOH\n3842\nOK\n1845\nOR\n-1\nPA\n-1\nPR\n2336\nRI\n6482\nSC\n892\nSD\n5554\nTN\n-1\nTX\n2696\nUT\n14528\nVA\n-1\nVI\n-1\nVT\n6102\nWA\n5125\nWI\n-1\nWV\n187\nWY\n-1\nAK\n12070\nAL\n3401\nAR\n-1\nAS\n19292\nAZ\n-1\nCA\n6627\nCO\n10920\nCT\n-1\nDC\n-1\nDE\n31750\nFL\n21031\nGA\n-1\nGU\n242\nHI\n-1\nIA\n1006\nID\n-1\nIL\n9599\nIN\n1911\nKS\n4063\nKY\n-1\nLA\n12089\nMA\n13266\nMD\n394\nME\n-1\nMI\n5661\nMN\n-1\nMO\n4\nMP\n4738\nMS\n276\nMT\n-1\nNC\n430\nND\n1741\nNE\n705\nNH\n22052\nNJ\n2870\nNM\n-1\nNV\n89995\nNY\n11760\nOH\n3760\nOK\n1813\nOR\n-1\nPA\n-1\nPR\n2317\nRI\n6482\nSC\n887\nSD\n5464\nTN\n-1\nTX\n2677\nUT\n14445\nVA\n-1\nVI\n-1\nVT\n6049\nWA\n5092\nWI\n-1\nWV\n183\nWY\n-1\nAK\n12070\nAL\n3336\nAR\n-1\nAS\n19277\nAZ\n-1\nCA\n6616\nCO\n10920\nCT\n-1\nDC\n-1\nDE\n31177\nFL\n20676\nGA\n-1\nGU\n239\nHI\n-1\nIA\n999\nID\n-1\nIL\n9354\nIN\n1911\nKS\n4024\nKY\n-1\nLA\n12062\nMA\n13247\nMD\n393\nME\n-1\nMI\n5606\nMN\n-1\nMO\n4\nMP\n4680\nMS\n273\nMT\n-1\nNC\n417\nND\n1722\nNE\n704\nNH\n21992\nNJ\n2851\nNM\n-1\nNV\n89995\nNY\n11629\nOH\n3625\nOK\n1798\nOR\n-1\nPA\n-1\nPR\n2311\nRI\n6153\nSC\n882\nSD\n5339\nTN\n-1\nTX\n2642\nUT\n14212\nVA\n-1\nVI\n-1\nVT\n6001\nWA\n5031\nWI\n-1\nWV\n179\nWY\n-1\nAK\n11537\nAL\n3284\nAR\n-1\nAS\n19268\nAZ\n-1\nCA\n6602\nCO\n10920\nCT\n-1\nDC\n-1\nDE\n30893\nFL\n20628\nGA\n-1\nGU\n237\nHI\n-1\nIA\n988\nID\n-1\nIL\n9354\nIN\n1875\nKS\n4002\nKY\n-1\nLA\n12054\nMA\n13177\nMD\n393\nME\n-1\nMI\n5555\nMN\n-1\nMO\n4\nMP\n4606\nMS\n272\nMT\n-1\nNC\n415\nND\n1715\nNE\n701\nNH\n21992\nNJ\n2838\nNM\n-1\nNV\n89995\nNY\n11565\nOH\n3605\nOK\n1758\nOR\n-1\nPA\n-1\nPR\n2311\nRI\n6153\nSC\n876\nSD\n5304\nTN\n-1\nTX\n2620\nUT\n14123\nVA\n-1\nVI\n-1\nVT\n5896\nWA\n5000\nWI\n-1\nWV\n177\nWY\n-1\nAK\n11537\nAL\n3223\nAR\n-1\nAS\n19244\nAZ\n-1\nCA\n6582\nCO\n10920\nCT\n-1\nDC\n-1\nDE\n30639\nFL\n20556\nGA\n-1\nGU\n231\nHI\n-1\nIA\n968\nID\n-1\nIL\n9354\nIN\n1875\nKS\n4002\nKY\n-1\nLA\n12044\nMA\n13105\nMD\n393\nME\n-1\nMI\n5506\nMN\n-1\nMO\n4\nMP\n4606\nMS\n268\nMT\n-1\nNC\n414\nND\n1704\nNE\n700\nNH\n21949\nNJ\n2819\nNM\n-1\nNV\n89995\nNY\n11516\nOH\n3594\nOK\n1758\nOR\n-1\nPA\n-1\nPR\n2294\nRI\n6153\nSC\n871\nSD\n5262\nTN\n-1\nTX\n2604\nUT\n14101\nVA\n-1\nVI\n-1\nVT\n5890\nWA\n4980\nWI\n-1\nWV\n177\nWY\n-1\nAK\n11537\nAL\n3168\nAR\n-1\nAS\n19241\nAZ\n-1\nCA\n6572\nCO\n10920\nCT\n-1\nDC\n-1\nDE\n30114\nFL\n20282\nGA\n-1\nGU\n225\nHI\n-1\nIA\n954\nID\n-1\nIL\n9354\nIN\n1875\nKS\n3975\nKY\n-1\nLA\n12022\nMA\n13047\nMD\n393\nME\n-1\nMI\n5458\nMN\n-1\nMO\n4\nMP\n4577\nMS\n264\nMT\n-1\nNC\n408\nND\n1688\nNE\n699\nNH\n21949\nNJ\n2803\nNM\n-1\nNV\n89995\nNY\n11447\nOH\n3555\nOK\n1758\nOR\n-1\nPA\n-1\nPR\n2276\nRI\n6153\nSC\n866\nSD\n5190\nTN\n-1\nTX\n2578\nUT\n14097\nVA\n-1\nVI\n-1\nVT\n5874\nWA\n4930\nWI\n-1\nWV\n176\nWY\n-1\nAK\n11313\nAL\n3118\nAR\n-1\nAS\n14068\nAZ\n-1\nCA\n6536\nCO\n10920\nCT\n-1\nDC\n-1\nDE\n29515\nFL\n20002\nGA\n-1\nGU\n214\nHI\n-1\nIA\n931\nID\n-1\nIL\n9267\nIN\n1821\nKS\n3924\nKY\n-1\nLA\n12007\nMA\n12978\nMD\n390\nME\n-1\nMI\n5421\nMN\n-1\nMO\n4\nMP\n4511\nMS\n259\nMT\n-1\nNC\n400\nND\n1681\nNE\n698\nNH\n21565\nNJ\n2781\nNM\n-1\nNV\n89995\nNY\n11366\nOH\n3497\nOK\n1743\nOR\n-1\nPA\n-1\nPR\n2264\nRI\n5799\nSC\n861\nSD\n5109\nTN\n-1\nTX\n2554\nUT\n13984\nVA\n-1\nVI\n-1\nVT\n5840\nWA\n4881\nWI\n-1\nWV\n171\nWY\n-1\nAK\n11100\nAL\n3118\nAR\n-1\nAS\n13559\nAZ\n-1\nCA\n6516\nCO\n10807\nCT\n-1\nDC\n-1\nDE\n28956\nFL\n19788\nGA\n-1\nGU\n208\nHI\n-1\nIA\n906\nID\n-1\nIL\n9148\nIN\n1821\nKS\n3903\nKY\n-1\nLA\n11993\nMA\n12922\nMD\n390\nME\n-1\nMI\n5373\nMN\n-1\nMO\n4\nMP\n4472\nMS\n248\nMT\n-1\nNC\n394\nND\n1644\nNE\n698\nNH\n21565\nNJ\n2753\nNM\n-1\nNV\n89995\nNY\n11231\nOH\n3445\nOK\n1726\nOR\n-1\nPA\n-1\nPR\n2248\nRI\n5799\nSC\n856\nSD\n5001\nTN\n-1\nTX\n2519\nUT\n13826\nVA\n-1\nVI\n-1\nVT\n5779\nWA\n4826\nWI\n-1\nWV\n169\nWY\n-1\nAK\n11100\nAL\n3054\nAR\n-1\nAS\n13294\nAZ\n-1\nCA\n6487\nCO\n10807\nCT\n-1\nDC\n-1\nDE\n28333\nFL\n19426\nGA\n-1\nGU\n201\nHI\n-1\nIA\n886\nID\n-1\nIL\n9148\nIN\n1782\nKS\n3851\nKY\n-1\nLA\n11973\nMA\n12888\nMD\n388\nME\n-1\nMI\n5346\nMN\n-1\nMO\n4\nMP\n4424\nMS\n238\nMT\n-1\nNC\n389\nND\n1644\nNE\n697\nNH\n21565\nNJ\n2730\nNM\n-1\nNV\n89995\nNY\n11119\nOH\n3375\nOK\n1688\nOR\n-1\nPA\n-1\nPR\n2242\nRI\n5799\nSC\n846\nSD\n4900\nTN\n-1\nTX\n2482\nUT\n13640\nVA\n-1\nVI\n-1\nVT\n5744\nWA\n4783\nWI\n-1\nWV\n169\nWY\n-1\nAK\n10865\nAL\n2966\nAR\n-1\nAS\n11400\nAZ\n-1\nCA\n6474\nCO\n10807\nCT\n-1\nDC\n-1\nDE\n27744\nFL\n19124\nGA\n-1\nGU\n199\nHI\n-1\nIA\n874\nID\n-1\nIL\n9004\nIN\n1782\nKS\n3815\nKY\n-1\nLA\n11942\nMA\n12832\nMD\n389\nME\n-1\nMI\n5298\nMN\n-1\nMO\n4\nMP\n4380\nMS\n236\nMT\n-1\nNC\n379\nND\n1630\nNE\n696\nNH\n21565\nNJ\n2720\nNM\n-1\nNV\n89995\nNY\n10992\nOH\n3275\nOK\n1655\nOR\n-1\nPA\n-1\nPR\n2231\nRI\n5527\nSC\n838\nSD\n4808\nTN\n-1\nTX\n2450\nUT\n13460\nVA\n-1\nVI\n-1\nVT\n5692\nWA\n4732\nWI\n-1\nWV\n167\nWY\n-1\nAK\n10521\nAL\n2894\nAR\n-1\nAS\n11371\nAZ\n-1\nCA\n6465\nCO\n10807\nCT\n-1\nDC\n-1\nDE\n27524\nFL\n19064\nGA\n-1\nGU\n194\nHI\n-1\nIA\n856\nID\n-1\nIL\n8848\nIN\n1751\nKS\n3782\nKY\n-1\nLA\n11936\nMA\n12746\nMD\n388\nME\n-1\nMI\n5241\nMN\n-1\nMO\n4\nMP\n4314\nMS\n233\nMT\n-1\nNC\n371\nND\n1629\nNE\n695\nNH\n21565\nNJ\n2703\nNM\n-1\nNV\n89995\nNY\n10900\nOH\n3241\nOK\n1607\nOR\n-1\nPA\n-1\nPR\n2211\nRI\n5527\nSC\n835\nSD\n4756\nTN\n-1\nTX\n2430\nUT\n13280\nVA\n-1\nVI\n-1\nVT\n5655\nWA\n4717\nWI\n-1\nWV\n167\nWY\n-1\nAK\n10521\nAL\n2852\nAR\n-1\nAS\n11346\nAZ\n-1\nCA\n6441\nCO\n10807\nCT\n-1\nDC\n-1\nDE\n27344\nFL\n18995\nGA\n-1\nGU\n179\nHI\n-1\nIA\n850\nID\n-1\nIL\n8781\nIN\n1751\nKS\n3782\nKY\n-1\nLA\n11930\nMA\n12672\nMD\n388\nME\n-1\nMI\n5208\nMN\n-1\nMO\n4\nMP\n4314\nMS\n230\nMT\n-1\nNC\n371\nND\n1622\nNE\n695\nNH\n21565\nNJ\n2686\nNM\n-1\nNV\n89995\nNY\n10857\nOH\n3228\nOK\n1607\nOR\n-1\nPA\n-1\nPR\n2211\nRI\n5527\nSC\n832\nSD\n4724\nTN\n-1\nTX\n2412\nUT\n13263\nVA\n-1\nVI\n-1\nVT\n5568\nWA\n4681\nWI\n-1\nWV\n167\nWY\n"
    }
   ],
   "source": [
    "file_name = \"daily.csv\"\n",
    "data = Load_Data(file_name)\n",
    "count = 0\n",
    "\n",
    "\n",
    "for i in data:\n",
    "    if (int(i[0][2:(len(i[0]) - 1)]) > 20200731):\n",
    "        print(i[17])\n",
    "        print(i[1].decode())\n",
    "        \n",
    "        record = Data(**{\n",
    "            'state' : i[1],\n",
    "            'deaths' : i[17]\n",
    "        })\n",
    "\n",
    "    count += 1\n",
    "    # print(count, record.state, record.deaths)"
   ]
  },
  {
   "cell_type": "code",
   "execution_count": null,
   "metadata": {},
   "outputs": [],
   "source": []
  }
 ]
}